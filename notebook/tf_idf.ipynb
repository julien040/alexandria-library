{
 "cells": [
  {
   "cell_type": "code",
   "execution_count": 10,
   "metadata": {},
   "outputs": [],
   "source": [
    "import psycopg2\n",
    "\n",
    "# Connect to the database\n",
    "conn = psycopg2.connect(\"dbname=hn user=julien\")\n",
    "\n",
    "# Create a cursor\n",
    "cur = conn.cursor()\n",
    "\n",
    "# Execute the query\n",
    "cur.execute(\"\"\"\n",
    "    SELECT\n",
    "        text, id, title\n",
    "    FROM hn_article\n",
    "    WHERE text IS NOT NULL\n",
    "    ;\n",
    "\"\"\")\n",
    "\n",
    "\n",
    "# Fetch the results\n",
    "resultsDB = cur.fetchall()\n",
    "\n"
   ]
  },
  {
   "cell_type": "code",
   "execution_count": 2,
   "metadata": {},
   "outputs": [
    {
     "data": {
      "text/plain": [
       "119151"
      ]
     },
     "execution_count": 2,
     "metadata": {},
     "output_type": "execute_result"
    }
   ],
   "source": [
    "results = [result[0] for result in resultsDB]\n",
    "ids = [result[1] for result in resultsDB]\n",
    "\"\"\" results = results[:10000] \"\"\"\n",
    "len(results)\n",
    "\n"
   ]
  },
  {
   "cell_type": "code",
   "execution_count": 3,
   "metadata": {},
   "outputs": [
    {
     "name": "stdout",
     "output_type": "stream",
     "text": [
      "Length of terms:  1973780\n"
     ]
    }
   ],
   "source": [
    "from sklearn.feature_extraction.text import TfidfVectorizer\n",
    "\n",
    "\n",
    "# Create the vectorizer method\n",
    "vectorizer = TfidfVectorizer(input=\"content\", stop_words=\"english\")\n",
    "\n",
    "# It fits the text and transforms it\n",
    "tfidf = vectorizer.fit_transform(results)\n",
    "\n",
    "# Retrieve the terms found in the corpora\n",
    "terms = vectorizer.get_feature_names_out()\n",
    "print(\"Length of terms: \", len(terms))\n"
   ]
  },
  {
   "cell_type": "code",
   "execution_count": 4,
   "metadata": {},
   "outputs": [],
   "source": [
    "def get_keywords(id):\n",
    "    index = ids.index(id)\n",
    "    words = tfidf[index].toarray().argsort()[0][-10:]\n",
    "    return terms[words]\n",
    "\n",
    "\n",
    "def insert_tag_in_DB(id):\n",
    "    tags = \",\".join(get_keywords(id))\n",
    "    try:\n",
    "        cur.execute(\"\"\"\n",
    "            UPDATE hn_article\n",
    "            SET tags = %s\n",
    "            WHERE id = %s\n",
    "            ;\n",
    "        \"\"\", (tags, id))\n",
    "        conn.commit()\n",
    "    except Exception as e:\n",
    "        print(e)\n",
    "        conn.rollback()"
   ]
  },
  {
   "cell_type": "code",
   "execution_count": 11,
   "metadata": {},
   "outputs": [
    {
     "name": "stdout",
     "output_type": "stream",
     "text": [
      " 119150 / 119151"
     ]
    }
   ],
   "source": [
    "for i in range(len(ids)):\n",
    "    print(\"\\r\", i, \"/\", len(ids), end=\"\")\n",
    "    insert_tag_in_DB(ids[i])"
   ]
  }
 ],
 "metadata": {
  "kernelspec": {
   "display_name": ".venv",
   "language": "python",
   "name": "python3"
  },
  "language_info": {
   "codemirror_mode": {
    "name": "ipython",
    "version": 3
   },
   "file_extension": ".py",
   "mimetype": "text/x-python",
   "name": "python",
   "nbconvert_exporter": "python",
   "pygments_lexer": "ipython3",
   "version": "3.10.6"
  }
 },
 "nbformat": 4,
 "nbformat_minor": 2
}
