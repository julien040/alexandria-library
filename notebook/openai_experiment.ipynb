{
 "cells": [
  {
   "cell_type": "code",
   "execution_count": 1,
   "metadata": {},
   "outputs": [],
   "source": [
    "from openai import AsyncAzureOpenAI\n",
    "import dotenv\n",
    "from os import getenv\n",
    "\n",
    "# We load the environment variables.\n",
    "dotenv.load_dotenv(override=True)\n",
    "\n",
    "MODEL_ID = \"tags\"\n",
    "\n",
    "client = AsyncAzureOpenAI(\n",
    "    api_version= getenv(\"AZURE_AI_VERSION\"),\n",
    "    azure_endpoint=getenv(\"AZURE_AI_ENDPOINT\"),\n",
    "    azure_deployment=getenv(\"tags\"),\n",
    "    api_key=getenv(\"AZURE_AI_API_KEY\"),\n",
    ")\n"
   ]
  },
  {
   "cell_type": "code",
   "execution_count": 3,
   "metadata": {},
   "outputs": [
    {
     "name": "stdout",
     "output_type": "stream",
     "text": [
      "ReactSignalStateManagement_VersionControl\n"
     ]
    }
   ],
   "source": [
    "res = await client.chat.completions.create(\n",
    "    model=MODEL_ID,\n",
    "    messages=[\n",
    "        {\n",
    "            \"role\":\"system\",\n",
    "            \"content\": \"The assistant must give 3 keywords summarising a list of keywords. The response must be comma separated. The keywords returned by the assistant can be different from the keywords in the list.\"\n",
    "        },\n",
    "        {\n",
    "            \"role\":\"user\",\n",
    "            \"content\": \"\"\"\n",
    "Javascript, React, Signal, Git, State, Props, UseMemo, UseState\n",
    "            \"\"\"\n",
    "        }\n",
    "    ],\n",
    "    temperature=0.2,\n",
    ")\n",
    "print(res.choices[0].message.content)"
   ]
  }
 ],
 "metadata": {
  "kernelspec": {
   "display_name": ".venv",
   "language": "python",
   "name": "python3"
  },
  "language_info": {
   "codemirror_mode": {
    "name": "ipython",
    "version": 3
   },
   "file_extension": ".py",
   "mimetype": "text/x-python",
   "name": "python",
   "nbconvert_exporter": "python",
   "pygments_lexer": "ipython3",
   "version": "3.10.6"
  }
 },
 "nbformat": 4,
 "nbformat_minor": 2
}
