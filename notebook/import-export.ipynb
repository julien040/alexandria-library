{
 "cells": [
  {
   "cell_type": "markdown",
   "metadata": {},
   "source": [
    "# Import"
   ]
  },
  {
   "cell_type": "code",
   "execution_count": 25,
   "metadata": {},
   "outputs": [],
   "source": [
    "from duckdb import connect as duck_connect\n",
    "import psycopg2"
   ]
  },
  {
   "cell_type": "markdown",
   "metadata": {},
   "source": [
    "# Load data from the redisDB"
   ]
  },
  {
   "cell_type": "code",
   "execution_count": 26,
   "metadata": {},
   "outputs": [
    {
     "name": "stdout",
     "output_type": "stream",
     "text": [
      "Done loading data\n"
     ]
    }
   ],
   "source": [
    "path = \"/Users/julien/Downloads/hn.duckdb\"\n",
    "\n",
    "con = duck_connect(path, read_only=True)\n",
    "\n",
    "\"\"\"\n",
    "Example:\n",
    "[(8818870,\n",
    "  'Show HN: Intentionally subtle headphone crossfeed filter',\n",
    "  'https://github.com/LnxPrgr3/crossfeed',\n",
    "  51,\n",
    "  1420022572,\n",
    "  21,\n",
    "  'LnxPrgr3')]\n",
    "\n",
    "Schema:\n",
    "CREATE TABLE hn_post (\n",
    "    id          INTEGER PRIMARY KEY,\n",
    "    type        TEXT NOT NULL,\n",
    "    by          TEXT,\n",
    "    time        BIGINT, -- Unix epoch time\n",
    "    text        TEXT,\n",
    "    parent      INTEGER,\n",
    "    kids        TEXT[],\n",
    "    url         TEXT,\n",
    "    descendants INTEGER,\n",
    "    score       INTEGER,\n",
    "    title       TEXT,\n",
    "    deleted     BOOLEAN,\n",
    "    dead        BOOLEAN\n",
    ");\n",
    "\n",
    "Schema story:\n",
    "id:int,\n",
    "title:string,\n",
    "url:string,\n",
    "score:int,\n",
    "time:int,\n",
    "comments:int,\n",
    "author:string\n",
    "\"\"\"\n",
    "\n",
    "print(\"Done loading data\")\n"
   ]
  },
  {
   "cell_type": "code",
   "execution_count": 27,
   "metadata": {},
   "outputs": [
    {
     "name": "stdout",
     "output_type": "stream",
     "text": [
      "4021000/4021340"
     ]
    }
   ],
   "source": [
    "# Postgres\n",
    "from time import sleep\n",
    "conP = psycopg2.connect(\"dbname=hn user=postgres host=localhost port=5432\")\n",
    "curP = conP.cursor()\n",
    "\n",
    "# Get the count of rows in duckdb\n",
    "con.execute(\"SELECT COUNT(*) FROM story;\")\n",
    "count = con.fetchone()[0]\n",
    "\n",
    "for i in range(0, count, 1000):\n",
    "    res = con.execute(\n",
    "        f\"SELECT * FROM story ORDER BY time DESC LIMIT 1000 OFFSET {i};\").fetchdf()\n",
    "    for row in res.itertuples():\n",
    "        try:\n",
    "            curP.execute(\n",
    "                \"INSERT INTO hn_post VALUES (%s, %s, %s, %s, %s, %s, %s, %s, %s, %s, %s, FALSE, FALSE);\",\n",
    "                (row.id,\n",
    "                \"post\",\n",
    "                row.author,\n",
    "                row.time,\n",
    "                None,\n",
    "                None,\n",
    "                None,\n",
    "                row.url if row.url else None,\n",
    "                row.comments,\n",
    "                row.score,\n",
    "                row.title,\n",
    "                ))\n",
    "            \n",
    "        except Exception as e:\n",
    "            continue\n",
    "            \n",
    "\n",
    "    conP.commit()\n",
    "    print(f\"\\r{i}/{count}\", end=\"\")\n"
   ]
  },
  {
   "cell_type": "code",
   "execution_count": 28,
   "metadata": {},
   "outputs": [],
   "source": [
    "# Count = 4021340\n",
    "\n",
    "# Add the last 340 rows\n",
    "res = con.execute(\n",
    "    f\"SELECT * FROM story ORDER BY time DESC LIMIT 1000 OFFSET 4021000;\").fetchdf()\n",
    "for row in res.itertuples():\n",
    "    try:\n",
    "        curP.execute(\n",
    "            \"INSERT INTO hn_post VALUES (%s, %s, %s, %s, %s, %s, %s, %s, %s, %s, %s);\",\n",
    "            (row.id,\n",
    "            \"post\",\n",
    "            row.author,\n",
    "            row.time,\n",
    "            None,\n",
    "            None,\n",
    "            None,\n",
    "            row.url,\n",
    "            row.comments,\n",
    "            row.score,\n",
    "            row.title,\n",
    "            ))\n",
    "        \n",
    "    except Exception as e:\n",
    "        continue\n",
    "\n",
    "conP.commit()"
   ]
  },
  {
   "cell_type": "markdown",
   "metadata": {},
   "source": [
    "# Embedding transfer\n",
    "Path: `../story.csv`\n",
    "\n",
    "**Schema csv:**\n",
    "id:int,\n",
    "title:string,\n",
    "url:string,\n",
    "score:int,\n",
    "time:int,\n",
    "comments:int,\n",
    "author:string,\n",
    "embeddings:string\n",
    "\n",
    "```SQL\n",
    "CREATE TABLE hn_embeddings (\n",
    "    id INTEGER PRIMARY KEY references hn_post,\n",
    "    embedding vector(1536)\n",
    ");\n",
    "```\n",
    "\n",
    "We want to transfer the embeddings from the csv to the database table `hn_embeddings`.\n",
    "\n"
   ]
  },
  {
   "cell_type": "code",
   "execution_count": 42,
   "metadata": {},
   "outputs": [],
   "source": [
    "import pandas as pd\n",
    "\n",
    "df = pd.read_csv(\"../story.csv\")\n"
   ]
  },
  {
   "cell_type": "code",
   "execution_count": 48,
   "metadata": {},
   "outputs": [],
   "source": [
    "# Abort failed transactions\n",
    "curP.execute(\"ROLLBACK;\")"
   ]
  },
  {
   "cell_type": "code",
   "execution_count": 51,
   "metadata": {},
   "outputs": [
    {
     "name": "stdout",
     "output_type": "stream",
     "text": [
      "108400/108477"
     ]
    }
   ],
   "source": [
    "# Transfer the data\n",
    "i = 0\n",
    "for row in df.iterrows():\n",
    "    if i % 100 == 0:\n",
    "        print(f\"\\r{i}/{len(df)}\", end=\"\")\n",
    "\n",
    "    i += 1\n",
    "    try:\n",
    "        curP.execute(\n",
    "            \"INSERT INTO hn_embeddings VALUES (%s, %s);\",\n",
    "            (row[1].id,\n",
    "             row[1].embeddings,\n",
    "             ))\n",
    "        conP.commit()\n",
    "    except Exception as e:\n",
    "        curP.execute(\"ROLLBACK;\")\n",
    "        \n",
    "\n",
    "conP.commit()\n",
    "        "
   ]
  }
 ],
 "metadata": {
  "kernelspec": {
   "display_name": ".venv",
   "language": "python",
   "name": "python3"
  },
  "language_info": {
   "codemirror_mode": {
    "name": "ipython",
    "version": 3
   },
   "file_extension": ".py",
   "mimetype": "text/x-python",
   "name": "python",
   "nbconvert_exporter": "python",
   "pygments_lexer": "ipython3",
   "version": "3.10.6"
  }
 },
 "nbformat": 4,
 "nbformat_minor": 2
}
