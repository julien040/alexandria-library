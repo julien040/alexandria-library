{
 "cells": [
  {
   "cell_type": "code",
   "execution_count": 22,
   "metadata": {},
   "outputs": [],
   "source": [
    "import psycopg2\n",
    "\n",
    "# Connect to the database\n",
    "conn = psycopg2.connect(\"dbname=hn user=julien\")\n",
    "\n",
    "# Open a cursor to perform database operations\n",
    "cur = conn.cursor()\n",
    "\n",
    "# Query the database and obtain data as Python objects\n",
    "cur.execute(\"SELECT max(id) FROM hn_post LIMIT 1\")\n",
    "maxDB = cur.fetchone()[0]\n",
    "\n"
   ]
  },
  {
   "cell_type": "code",
   "execution_count": 23,
   "metadata": {},
   "outputs": [
    {
     "name": "stderr",
     "output_type": "stream",
     "text": [
      "Unclosed client session\n",
      "client_session: <aiohttp.client.ClientSession object at 0x10a3b0700>\n",
      "Unclosed connector\n",
      "connections: ['[(<aiohttp.client_proto.ResponseHandler object at 0x10db1d660>, 453374.922926458), (<aiohttp.client_proto.ResponseHandler object at 0x10db1e260>, 453374.949180833), (<aiohttp.client_proto.ResponseHandler object at 0x10db1cb80>, 453374.959075416), (<aiohttp.client_proto.ResponseHandler object at 0x10db1c9a0>, 453374.970496625), (<aiohttp.client_proto.ResponseHandler object at 0x10ab8f2e0>, 453374.979416416), (<aiohttp.client_proto.ResponseHandler object at 0x10db1f880>, 453374.980096291), (<aiohttp.client_proto.ResponseHandler object at 0x105845420>, 453374.985647083), (<aiohttp.client_proto.ResponseHandler object at 0x10db62140>, 453374.989837333), (<aiohttp.client_proto.ResponseHandler object at 0x10abe3a60>, 453374.998967041), (<aiohttp.client_proto.ResponseHandler object at 0x10ae09c60>, 453375.007842416), (<aiohttp.client_proto.ResponseHandler object at 0x10db61840>, 453375.046199375), (<aiohttp.client_proto.ResponseHandler object at 0x10db61ba0>, 453375.046332041), (<aiohttp.client_proto.ResponseHandler object at 0x10db1dd80>, 453375.05334025), (<aiohttp.client_proto.ResponseHandler object at 0x10db1ee00>, 453375.062467958), (<aiohttp.client_proto.ResponseHandler object at 0x10dc18460>, 453375.064091583), (<aiohttp.client_proto.ResponseHandler object at 0x10dc1afe0>, 453375.092379), (<aiohttp.client_proto.ResponseHandler object at 0x10dc1aa40>, 453375.093838666), (<aiohttp.client_proto.ResponseHandler object at 0x10dc19f00>, 453375.097756916), (<aiohttp.client_proto.ResponseHandler object at 0x10dc184c0>, 453375.100513708), (<aiohttp.client_proto.ResponseHandler object at 0x10b24be20>, 453375.110973), (<aiohttp.client_proto.ResponseHandler object at 0x10dc182e0>, 453375.119471625), (<aiohttp.client_proto.ResponseHandler object at 0x10ab9f700>, 453375.134798791), (<aiohttp.client_proto.ResponseHandler object at 0x10db62320>, 453375.143808125), (<aiohttp.client_proto.ResponseHandler object at 0x10ab146a0>, 453375.153857875), (<aiohttp.client_proto.ResponseHandler object at 0x10dc71720>, 453375.160671333), (<aiohttp.client_proto.ResponseHandler object at 0x10dc700a0>, 453375.172673416), (<aiohttp.client_proto.ResponseHandler object at 0x10dc734c0>, 453375.1869565), (<aiohttp.client_proto.ResponseHandler object at 0x10abe3040>, 453375.211346375), (<aiohttp.client_proto.ResponseHandler object at 0x10dc1bd00>, 453375.211922791)]']\n",
      "connector: <aiohttp.connector.TCPConnector object at 0x10b26a9b0>\n"
     ]
    }
   ],
   "source": [
    "# Max HN ID post\n",
    "import aiohttp\n",
    "\n",
    "requests = aiohttp.ClientSession()\n",
    "\n",
    "async def get_max_id():\n",
    "    async with requests.get(\"https://hacker-news.firebaseio.com/v0/maxitem.json\") as response:\n",
    "        return await response.json()\n",
    "    \n",
    "max_id = await get_max_id()"
   ]
  },
  {
   "cell_type": "code",
   "execution_count": 24,
   "metadata": {},
   "outputs": [],
   "source": [
    "\"\"\" \n",
    "-- Table Definition\n",
    "CREATE TABLE \"public\".\"hn_post\" (\n",
    "    \"id\" int4 NOT NULL,\n",
    "    \"type\" text NOT NULL,\n",
    "    \"by\" text,\n",
    "    \"time\" int8,\n",
    "    \"text\" text,\n",
    "    \"parent\" int4,\n",
    "    \"kids\" _text,\n",
    "    \"url\" text,\n",
    "    \"descendants\" int4,\n",
    "    \"score\" int4,\n",
    "    \"title\" text,\n",
    "    \"deleted\" bool,\n",
    "    \"dead\" bool,\n",
    "    PRIMARY KEY (\"id\")\n",
    ");\n",
    "\"\"\"\n",
    "\n",
    "async def insert_hn_post(id):\n",
    "    try:\n",
    "        async with requests.get(f\"https://hacker-news.firebaseio.com/v0/item/{id}.json\") as response:\n",
    "            post = await response.json()\n",
    "            if post and post.get(\"type\") == \"story\":\n",
    "                if post.get(\"title\") == \"\" or post.get(\"title\") is None:\n",
    "                    return\n",
    "                \n",
    "                try:\n",
    "                    cur.execute(\n",
    "                        \"\"\"INSERT INTO hn_post (id, type, by, time, text, parent, kids, url, descendants,\n",
    "                        score, title, deleted, dead) VALUES (%s, %s, %s, %s, %s, %s, %s, %s, %s, %s, %s, %s, %s)\"\"\",\n",
    "                        (post.get(\"id\"), post.get(\"type\"), post.get(\"by\"), post.get(\"time\"), post.get(\"text\"),\n",
    "                            post.get(\"parent\"), post.get(\"kids\"), post.get(\"url\"), post.get(\"descendants\"),\n",
    "                            post.get(\"score\"), post.get(\"title\"), post.get(\"deleted\"), post.get(\"dead\"))\n",
    "                    )\n",
    "                    conn.commit()\n",
    "                    print(\"Done inserting {}: {}\".format(id, post.get(\"title\")))\n",
    "                except Exception as e:\n",
    "                    conn.rollback()\n",
    "                    print(e)\n",
    "    except Exception as e:\n",
    "        print(e)\n",
    "\n"
   ]
  },
  {
   "cell_type": "code",
   "execution_count": 25,
   "metadata": {},
   "outputs": [
    {
     "name": "stdout",
     "output_type": "stream",
     "text": [
      "14\n",
      "duplicate key value violates unique constraint \"hn_post_pkey\"\n",
      "DETAIL:  Key (id)=(38981765) already exists.\n",
      "\n",
      "Done inserting 38981777: Lawsuit: Hudson Co Jail Recorded Calls with Attorneys, Gave Info to Prosecutors\n"
     ]
    }
   ],
   "source": [
    "import aiometer\n",
    "ids= [i for i in range(maxDB, max_id)]\n",
    "print(len(ids))\n",
    "\n",
    "await aiometer.run_on_each(insert_hn_post, ids, max_per_second=100)"
   ]
  }
 ],
 "metadata": {
  "kernelspec": {
   "display_name": ".venv",
   "language": "python",
   "name": "python3"
  },
  "language_info": {
   "codemirror_mode": {
    "name": "ipython",
    "version": 3
   },
   "file_extension": ".py",
   "mimetype": "text/x-python",
   "name": "python",
   "nbconvert_exporter": "python",
   "pygments_lexer": "ipython3",
   "version": "3.10.6"
  }
 },
 "nbformat": 4,
 "nbformat_minor": 2
}
